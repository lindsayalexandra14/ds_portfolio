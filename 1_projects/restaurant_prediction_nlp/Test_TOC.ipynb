{
  "nbformat": 4,
  "nbformat_minor": 0,
  "metadata": {
    "colab": {
      "provenance": []
    },
    "kernelspec": {
      "name": "python3",
      "display_name": "Python 3"
    },
    "language_info": {
      "name": "python"
    }
  },
  "cells": [
    {
      "cell_type": "markdown",
      "source": [
        "[![Open In Colab](https://colab.research.google.com/assets/colab-badge.svg)](https://colab.research.google.com/github/lindsayalexandra14/ds_portfolio/blob/main/1_projects/restaurant_prediction_nlp/Test_TOC.ipynb)\n"
      ],
      "metadata": {
        "id": "NuhvoDDCw1ez"
      }
    },
    {
      "cell_type": "markdown",
      "source": [
        "![Alt text](https://github.com/lindsayalexandra14/ds_portfolio/raw/main/2_images/Import%20Data.png)\n"
      ],
      "metadata": {
        "id": "cJw0Y5mfu8QR"
      }
    },
    {
      "cell_type": "markdown",
      "source": [
        "![Alt text](https://github.com/lindsayalexandra14/ds_portfolio/raw/main/2_images/Import%20Data.png)"
      ],
      "metadata": {
        "id": "5UcsJeFG19fS"
      }
    },
    {
      "cell_type": "code",
      "source": [
        "# @title\n",
        "from IPython.display import display, HTML\n",
        "def fancy_header(text):\n",
        "    display(HTML(f'''<link href=\"https://fonts.googleapis.com/css2?family=Dancing+Script&display=swap\" rel=\"stylesheet\">\n",
        "    <div style=\"background-color: #d0f0f0;padding: 20px;border-radius: 12px;text-align: center;font-size: 36px;color: black;\n",
        "        font-family: 'Dancing Script', cursive;\">{text}\n",
        "    </div>'''))\n"
      ],
      "metadata": {
        "id": "fTpEfqqpUJ0u"
      },
      "execution_count": null,
      "outputs": []
    },
    {
      "cell_type": "markdown",
      "source": [
        "###Project\n"
      ],
      "metadata": {
        "id": "wJVs-zHRUFtf"
      }
    },
    {
      "cell_type": "code",
      "source": [
        "fancy_header(\"Restaurant Type Prediction w/ Natural Language Processing\")"
      ],
      "metadata": {
        "colab": {
          "base_uri": "https://localhost:8080/",
          "height": 146
        },
        "id": "Q-esJAqzUNlp",
        "outputId": "fd8eaaf6-5b1f-440a-9b5d-24d38247fbec"
      },
      "execution_count": null,
      "outputs": [
        {
          "output_type": "display_data",
          "data": {
            "text/plain": [
              "<IPython.core.display.HTML object>"
            ],
            "text/html": [
              "<link href=\"https://fonts.googleapis.com/css2?family=Dancing+Script&display=swap\" rel=\"stylesheet\">\n",
              "    <div style=\"background-color: #d0f0f0;padding: 20px;border-radius: 12px;text-align: center;font-size: 36px;color: black;\n",
              "        font-family: 'Dancing Script', cursive;\">Restaurant Type Prediction w/ Natural Language Processing\n",
              "    </div>"
            ]
          },
          "metadata": {}
        }
      ]
    },
    {
      "cell_type": "markdown",
      "source": [
        "###Data\n"
      ],
      "metadata": {
        "id": "ncoSIlkkW7mD"
      }
    },
    {
      "cell_type": "code",
      "source": [
        "# @title Fancy Header { display-mode: \"form\" }\n",
        "from IPython.display import display, HTML\n",
        "\n",
        "def fancy_header(text):\n",
        "    display(HTML(f'''\n",
        "    <link href=\"https://fonts.googleapis.com/css2?family=Dancing+Script&display=swap\" rel=\"stylesheet\">\n",
        "    <div style=\"\n",
        "        background-color: #d0f0f0;\n",
        "        padding: 20px;\n",
        "        border-radius: 12px;\n",
        "        text-align: center;\n",
        "        font-size: 36px;\n",
        "        color: black;\n",
        "        font-family: 'Dancing Script', cursive;\">\n",
        "        {text}\n",
        "    </div>\n",
        "    '''))\n",
        "\n",
        "fancy_header(\"Welcome to My Project\")\n"
      ],
      "metadata": {
        "colab": {
          "base_uri": "https://localhost:8080/",
          "height": 102
        },
        "id": "WenUJ2XBYT9D",
        "outputId": "acf3eaf8-a101-4904-c438-76712fd75835"
      },
      "execution_count": null,
      "outputs": [
        {
          "output_type": "display_data",
          "data": {
            "text/plain": [
              "<IPython.core.display.HTML object>"
            ],
            "text/html": [
              "\n",
              "    <link href=\"https://fonts.googleapis.com/css2?family=Dancing+Script&display=swap\" rel=\"stylesheet\">\n",
              "    <div style=\"\n",
              "        background-color: #d0f0f0;\n",
              "        padding: 20px;\n",
              "        border-radius: 12px;\n",
              "        text-align: center;\n",
              "        font-size: 36px;\n",
              "        color: black;\n",
              "        font-family: 'Dancing Script', cursive;\">\n",
              "        Welcome to My Project\n",
              "    </div>\n",
              "    "
            ]
          },
          "metadata": {}
        }
      ]
    },
    {
      "cell_type": "code",
      "source": [
        "# @title Fancy Header { display-mode: \"form\" }\n",
        "from IPython.display import display, HTML\n",
        "\n",
        "def fancy_header(text):\n",
        "    display(HTML(f'''\n",
        "    <link href=\"https://fonts.googleapis.com/css2?family=Dancing+Script&display=swap\" rel=\"stylesheet\">\n",
        "    <div style=\"\n",
        "        background-color: #d0f0f0;\n",
        "        padding: 20px;\n",
        "        border-radius: 12px;\n",
        "        text-align: center;\n",
        "        font-size: 36px;\n",
        "        color: black;\n",
        "        font-family: 'Dancing Script', cursive;\">\n",
        "        {text}\n",
        "    </div>\n",
        "    '''))\n",
        "\n",
        "fancy_header(\"Welcome to My Project\")\n"
      ],
      "metadata": {
        "colab": {
          "base_uri": "https://localhost:8080/",
          "height": 102
        },
        "id": "sIy9EEL63Chv",
        "outputId": "655ac272-8287-4e23-8704-3b362df6c171"
      },
      "execution_count": null,
      "outputs": [
        {
          "output_type": "display_data",
          "data": {
            "text/plain": [
              "<IPython.core.display.HTML object>"
            ],
            "text/html": [
              "\n",
              "    <link href=\"https://fonts.googleapis.com/css2?family=Dancing+Script&display=swap\" rel=\"stylesheet\">\n",
              "    <div style=\"\n",
              "        background-color: #d0f0f0;\n",
              "        padding: 20px;\n",
              "        border-radius: 12px;\n",
              "        text-align: center;\n",
              "        font-size: 36px;\n",
              "        color: black;\n",
              "        font-family: 'Dancing Script', cursive;\">\n",
              "        Welcome to My Project\n",
              "    </div>\n",
              "    "
            ]
          },
          "metadata": {}
        }
      ]
    },
    {
      "cell_type": "code",
      "source": [],
      "metadata": {
        "id": "45YsMPlD3N0j"
      },
      "execution_count": null,
      "outputs": []
    }
  ]
}