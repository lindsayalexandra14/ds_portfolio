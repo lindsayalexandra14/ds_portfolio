{
  "cells": [
    {
      "cell_type": "markdown",
      "metadata": {
        "id": "NuhvoDDCw1ez"
      },
      "source": [
        "[![Open In Colab](https://colab.research.google.com/assets/colab-badge.svg)](https://colab.research.google.com/github/lindsayalexandra14/ds_portfolio/blob/main/projects/Restaurant%20Prediction%20NLP/Test_TOC.ipynb)\n"
      ]
    },
    {
      "cell_type": "markdown",
      "metadata": {
        "id": "cJw0Y5mfu8QR"
      },
      "source": [
        "![Alt text](https://github.com/lindsayalexandra14/ds_portfolio/raw/main/images/Import%20Data.png)\n"
      ]
    },
    {
      "cell_type": "code",
      "execution_count": 1,
      "metadata": {
        "id": "fTpEfqqpUJ0u"
      },
      "outputs": [],
      "source": [
        "# @title\n",
        "from IPython.display import display, HTML\n",
        "def fancy_header(text):\n",
        "    display(HTML(f'''<link href=\"https://fonts.googleapis.com/css2?family=Dancing+Script&display=swap\" rel=\"stylesheet\">\n",
        "    <div style=\"background-color: #d0f0f0;padding: 20px;border-radius: 12px;text-align: center;font-size: 36px;color: black;\n",
        "        font-family: 'Dancing Script', cursive;\">{text}\n",
        "    </div>'''))\n"
      ]
    },
    {
      "cell_type": "markdown",
      "metadata": {
        "id": "wJVs-zHRUFtf"
      },
      "source": [
        "###Project\n"
      ]
    },
    {
      "cell_type": "code",
      "execution_count": 2,
      "metadata": {
        "colab": {
          "base_uri": "https://localhost:8080/",
          "height": 146
        },
        "id": "Q-esJAqzUNlp",
        "outputId": "fd8eaaf6-5b1f-440a-9b5d-24d38247fbec"
      },
      "outputs": [
        {
          "data": {
            "text/html": [
              "<link href=\"https://fonts.googleapis.com/css2?family=Dancing+Script&display=swap\" rel=\"stylesheet\">\n",
              "    <div style=\"background-color: #d0f0f0;padding: 20px;border-radius: 12px;text-align: center;font-size: 36px;color: black;\n",
              "        font-family: 'Dancing Script', cursive;\">Restaurant Type Prediction w/ Natural Language Processing\n",
              "    </div>"
            ],
            "text/plain": [
              "<IPython.core.display.HTML object>"
            ]
          },
          "metadata": {},
          "output_type": "display_data"
        }
      ],
      "source": [
        "fancy_header(\"Restaurant Type Prediction w/ Natural Language Processing\")"
      ]
    },
    {
      "cell_type": "markdown",
      "metadata": {
        "id": "ncoSIlkkW7mD"
      },
      "source": [
        "###Data\n"
      ]
    },
    {
      "cell_type": "code",
      "execution_count": 3,
      "metadata": {
        "colab": {
          "base_uri": "https://localhost:8080/",
          "height": 102
        },
        "id": "WenUJ2XBYT9D",
        "outputId": "acf3eaf8-a101-4904-c438-76712fd75835"
      },
      "outputs": [
        {
          "data": {
            "text/html": [
              "\n",
              "    <link href=\"https://fonts.googleapis.com/css2?family=Dancing+Script&display=swap\" rel=\"stylesheet\">\n",
              "    <div style=\"\n",
              "        background-color: #d0f0f0;\n",
              "        padding: 20px;\n",
              "        border-radius: 12px;\n",
              "        text-align: center;\n",
              "        font-size: 36px;\n",
              "        color: black;\n",
              "        font-family: 'Dancing Script', cursive;\">\n",
              "        Welcome to My Project\n",
              "    </div>\n",
              "    "
            ],
            "text/plain": [
              "<IPython.core.display.HTML object>"
            ]
          },
          "metadata": {},
          "output_type": "display_data"
        }
      ],
      "source": [
        "# @title Fancy Header { display-mode: \"form\" }\n",
        "from IPython.display import display, HTML\n",
        "\n",
        "def fancy_header(text):\n",
        "    display(HTML(f'''\n",
        "    <link href=\"https://fonts.googleapis.com/css2?family=Dancing+Script&display=swap\" rel=\"stylesheet\">\n",
        "    <div style=\"\n",
        "        background-color: #d0f0f0;\n",
        "        padding: 20px;\n",
        "        border-radius: 12px;\n",
        "        text-align: center;\n",
        "        font-size: 36px;\n",
        "        color: black;\n",
        "        font-family: 'Dancing Script', cursive;\">\n",
        "        {text}\n",
        "    </div>\n",
        "    '''))\n",
        "\n",
        "fancy_header(\"Welcome to My Project\")\n"
      ]
    },
    {
      "cell_type": "code",
      "execution_count": 4,
      "metadata": {
        "colab": {
          "base_uri": "https://localhost:8080/",
          "height": 102
        },
        "id": "sIy9EEL63Chv",
        "outputId": "655ac272-8287-4e23-8704-3b362df6c171"
      },
      "outputs": [
        {
          "data": {
            "text/html": [
              "\n",
              "    <link href=\"https://fonts.googleapis.com/css2?family=Dancing+Script&display=swap\" rel=\"stylesheet\">\n",
              "    <div style=\"\n",
              "        background-color: #d0f0f0;\n",
              "        padding: 20px;\n",
              "        border-radius: 12px;\n",
              "        text-align: center;\n",
              "        font-size: 36px;\n",
              "        color: black;\n",
              "        font-family: 'Dancing Script', cursive;\">\n",
              "        Welcome to My Project\n",
              "    </div>\n",
              "    "
            ],
            "text/plain": [
              "<IPython.core.display.HTML object>"
            ]
          },
          "metadata": {},
          "output_type": "display_data"
        }
      ],
      "source": [
        "# @title Fancy Header { display-mode: \"form\" }\n",
        "from IPython.display import display, HTML\n",
        "\n",
        "def fancy_header(text):\n",
        "    display(HTML(f'''\n",
        "    <link href=\"https://fonts.googleapis.com/css2?family=Dancing+Script&display=swap\" rel=\"stylesheet\">\n",
        "    <div style=\"\n",
        "        background-color: #d0f0f0;\n",
        "        padding: 20px;\n",
        "        border-radius: 12px;\n",
        "        text-align: center;\n",
        "        font-size: 36px;\n",
        "        color: black;\n",
        "        font-family: 'Dancing Script', cursive;\">\n",
        "        {text}\n",
        "    </div>\n",
        "    '''))\n",
        "\n",
        "fancy_header(\"Welcome to My Project\")\n"
      ]
    },
    {
      "cell_type": "code",
      "execution_count": null,
      "metadata": {
        "id": "45YsMPlD3N0j"
      },
      "outputs": [],
      "source": []
    },
    {
      "cell_type": "code",
      "execution_count": null,
      "metadata": {},
      "outputs": [],
      "source": []
    }
  ],
  "metadata": {
    "colab": {
      "provenance": []
    },
    "kernelspec": {
      "display_name": "Python 3",
      "name": "python3"
    },
    "language_info": {
      "codemirror_mode": {
        "name": "ipython",
        "version": 3
      },
      "file_extension": ".py",
      "mimetype": "text/x-python",
      "name": "python",
      "nbconvert_exporter": "python",
      "pygments_lexer": "ipython3",
      "version": "3.12.1"
    }
  },
  "nbformat": 4,
  "nbformat_minor": 0
}
